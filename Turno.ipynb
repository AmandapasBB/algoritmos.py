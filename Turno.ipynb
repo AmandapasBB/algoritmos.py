{
 "cells": [
  {
   "cell_type": "code",
   "execution_count": 1,
   "metadata": {},
   "outputs": [
    {
     "name": "stdout",
     "output_type": "stream",
     "text": [
      "Boa tarde!\n"
     ]
    }
   ],
   "source": [
    "#Digite o turno em que estuda\n",
    "turno = input(\"Em que turno você estuda? Digite M para matutino, V para vespertino ou N para noturno: \").upper()\n",
    "\n",
    "#verifica o turno e mostra a resposta\n",
    "if turno == 'M':\n",
    "    print(\"Bom dia!\")\n",
    "elif turno == 'V':\n",
    "    print(\"Boa tarde!\")\n",
    "elif turno == 'N':\n",
    "    print(\"Boa noite!\")\n",
    "else:\n",
    "    print(\"Valor inválido!\")"
   ]
  }
 ],
 "metadata": {
  "kernelspec": {
   "display_name": "Python 3",
   "language": "python",
   "name": "python3"
  },
  "language_info": {
   "codemirror_mode": {
    "name": "ipython",
    "version": 3
   },
   "file_extension": ".py",
   "mimetype": "text/x-python",
   "name": "python",
   "nbconvert_exporter": "python",
   "pygments_lexer": "ipython3",
   "version": "3.11.4"
  }
 },
 "nbformat": 4,
 "nbformat_minor": 2
}
