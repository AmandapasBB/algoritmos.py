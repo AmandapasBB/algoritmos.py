{
 "cells": [
  {
   "cell_type": "code",
   "execution_count": 1,
   "metadata": {},
   "outputs": [
    {
     "name": "stdout",
     "output_type": "stream",
     "text": [
      "A letra digitada é uma vogal.\n"
     ]
    }
   ],
   "source": [
    "# Função para indicar se a letra é vogal ou consoante\n",
    "def verificar_letra(letra):\n",
    "    vogais = 'aeiouAEIOU'\n",
    "    if letra in vogais:\n",
    "        return \"A letra digitada é uma vogal.\"\n",
    "    else:\n",
    "        return \"A letra digitada é uma consoante.\"\n",
    "\n",
    "# Solicita uma letra ao usuário\n",
    "letra = input(\"Digite uma letra: \")\n",
    "\n",
    "# Verifica se a entrada é uma letra\n",
    "if len(letra) == 1 and letra.isalpha():\n",
    "    resultado = verificar_letra(letra)\n",
    "    print(resultado)\n",
    "else:\n",
    "    print(\"Por favor, digite apenas uma letra.\")"
   ]
  }
 ],
 "metadata": {
  "kernelspec": {
   "display_name": "Python 3",
   "language": "python",
   "name": "python3"
  },
  "language_info": {
   "codemirror_mode": {
    "name": "ipython",
    "version": 3
   },
   "file_extension": ".py",
   "mimetype": "text/x-python",
   "name": "python",
   "nbconvert_exporter": "python",
   "pygments_lexer": "ipython3",
   "version": "3.11.4"
  }
 },
 "nbformat": 4,
 "nbformat_minor": 2
}
