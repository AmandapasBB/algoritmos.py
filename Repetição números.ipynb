{
 "cells": [
  {
   "cell_type": "code",
   "execution_count": 1,
   "metadata": {},
   "outputs": [
    {
     "name": "stdout",
     "output_type": "stream",
     "text": [
      "A soma dos números é: 23.0\n",
      "A média dos números é: 4.6\n"
     ]
    }
   ],
   "source": [
    "# Lista para armazenar os números\n",
    "numeros = []\n",
    "\n",
    "# Lê 5 números do usuário usando um loop\n",
    "for i in range(5):\n",
    "    num = float(input(f\"Digite o {i+1}º número: \"))\n",
    "    numeros.append(num)\n",
    "\n",
    "# Calcula a soma dos números\n",
    "soma = sum(numeros)\n",
    "\n",
    "# Calcula a média dos números\n",
    "media = soma / len(numeros)\n",
    "\n",
    "# Exibe a soma e a média dos números\n",
    "print(f\"A soma dos números é: {soma}\")\n",
    "print(f\"A média dos números é: {media}\")"
   ]
  }
 ],
 "metadata": {
  "kernelspec": {
   "display_name": "Python 3",
   "language": "python",
   "name": "python3"
  },
  "language_info": {
   "codemirror_mode": {
    "name": "ipython",
    "version": 3
   },
   "file_extension": ".py",
   "mimetype": "text/x-python",
   "name": "python",
   "nbconvert_exporter": "python",
   "pygments_lexer": "ipython3",
   "version": "3.11.4"
  }
 },
 "nbformat": 4,
 "nbformat_minor": 2
}
