{
 "cells": [
  {
   "cell_type": "code",
   "execution_count": 1,
   "metadata": {},
   "outputs": [
    {
     "name": "stdout",
     "output_type": "stream",
     "text": [
      "\n",
      "Olá, amanda!\n",
      "Você irá se aposentar em 2060.\n"
     ]
    }
   ],
   "source": [
    "# Digitar o nome e a idade\n",
    "nome = input(\"Digite seu nome: \")\n",
    "idade = int(input(\"Digite sua idade: \"))\n",
    "\n",
    "# Calcula o ano de aposentadoria\n",
    "ano_atual = 2024  # o ano vigente é 2024\n",
    "idade_aposentadoria = 65\n",
    "ano_aposentadoria = ano_atual + (idade_aposentadoria - idade)\n",
    "\n",
    "# Exibe a mensagem com o ano de aposentadoria\n",
    "print(f\"\\nOlá, {nome}!\")\n",
    "print(f\"Você irá se aposentar em {ano_aposentadoria}.\")"
   ]
  }
 ],
 "metadata": {
  "kernelspec": {
   "display_name": "Python 3",
   "language": "python",
   "name": "python3"
  },
  "language_info": {
   "codemirror_mode": {
    "name": "ipython",
    "version": 3
   },
   "file_extension": ".py",
   "mimetype": "text/x-python",
   "name": "python",
   "nbconvert_exporter": "python",
   "pygments_lexer": "ipython3",
   "version": "3.11.4"
  }
 },
 "nbformat": 4,
 "nbformat_minor": 2
}
