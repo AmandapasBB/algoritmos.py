{
 "cells": [
  {
   "cell_type": "code",
   "execution_count": 1,
   "metadata": {},
   "outputs": [
    {
     "name": "stdout",
     "output_type": "stream",
     "text": [
      "Escolha a operação que deseja realizar:\n",
      "1 - Soma\n",
      "2 - Subtração\n",
      "3 - Multiplicação\n",
      "4 - Divisão\n",
      "5 - Exponenciação\n",
      "O resultado da multiplicação é: 40.0\n",
      "O resultado é um número par, positivo e inteiro.\n"
     ]
    }
   ],
   "source": [
    "# Digite dois números\n",
    "num1 = float(input(\"Digite o primeiro número: \"))\n",
    "num2 = float(input(\"Digite o segundo número: \"))\n",
    "\n",
    "# Escolha uma operação \n",
    "print(\"Escolha a operação que deseja realizar:\")\n",
    "print(\"1 - Soma\")\n",
    "print(\"2 - Subtração\")\n",
    "print(\"3 - Multiplicação\")\n",
    "print(\"4 - Divisão\")\n",
    "print(\"5 - Exponenciação\")\n",
    "operacao = input(\"Digite o número da operação escolhida: \")\n",
    "\n",
    "# Realiza a operação escolhida\n",
    "if operacao == '1':\n",
    "    resultado = num1 + num2\n",
    "    operacao_str = \"soma\"\n",
    "elif operacao == '2':\n",
    "    resultado = num1 - num2\n",
    "    operacao_str = \"subtração\"\n",
    "elif operacao == '3':\n",
    "    resultado = num1 * num2\n",
    "    operacao_str = \"multiplicação\"\n",
    "elif operacao == '4':\n",
    "    if num2 != 0:\n",
    "        resultado = num1 / num2\n",
    "        operacao_str = \"divisão\"\n",
    "    else:\n",
    "        print(\"Erro: Divisão por zero não é permitida.\")\n",
    "        exit()\n",
    "elif operacao == '5':\n",
    "    resultado = num1 ** num2\n",
    "    operacao_str = \"exponenciação\"\n",
    "else:\n",
    "    print(\"Operação inválida.\")\n",
    "    exit()\n",
    "\n",
    "# Função para verificar se o número é par ou ímpar\n",
    "def par_ou_impar(n):\n",
    "    if n % 2 == 0:\n",
    "        return \"par\"\n",
    "    else:\n",
    "        return \"ímpar\"\n",
    "\n",
    "# Função para verificar se o número é positivo ou negativo\n",
    "def positivo_ou_negativo(n):\n",
    "    if n > 0:\n",
    "        return \"positivo\"\n",
    "    elif n < 0:\n",
    "        return \"negativo\"\n",
    "    else:\n",
    "        return \"neutro\"\n",
    "\n",
    "# Função para verificar se o número é inteiro ou decimal\n",
    "def inteiro_ou_decimal(n):\n",
    "    if n == int(n):\n",
    "        return \"inteiro\"\n",
    "    else:\n",
    "        return \"decimal\"\n",
    "\n",
    "# Características da operaçao\n",
    "paridade = par_ou_impar(resultado)\n",
    "sinal = positivo_ou_negativo(resultado)\n",
    "tipo = inteiro_ou_decimal(resultado)\n",
    "\n",
    "# Resultado da operação\n",
    "print(f\"O resultado da {operacao_str} é: {resultado}\")\n",
    "print(f\"O resultado é um número {paridade}, {sinal} e {tipo}.\")"
   ]
  }
 ],
 "metadata": {
  "kernelspec": {
   "display_name": "Python 3",
   "language": "python",
   "name": "python3"
  },
  "language_info": {
   "codemirror_mode": {
    "name": "ipython",
    "version": 3
   },
   "file_extension": ".py",
   "mimetype": "text/x-python",
   "name": "python",
   "nbconvert_exporter": "python",
   "pygments_lexer": "ipython3",
   "version": "3.11.4"
  }
 },
 "nbformat": 4,
 "nbformat_minor": 2
}
