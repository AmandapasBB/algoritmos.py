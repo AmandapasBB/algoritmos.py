{
 "cells": [
  {
   "cell_type": "code",
   "execution_count": 2,
   "metadata": {},
   "outputs": [
    {
     "name": "stdout",
     "output_type": "stream",
     "text": [
      "Os números em ordem decrescente são:\n",
      "9.0\n",
      "5.0\n",
      "1.0\n"
     ]
    }
   ],
   "source": [
    "# Pede que seja digitado 3 números\n",
    "num1 = float(input(\"Digite o primeiro número: \"))\n",
    "num2 = float(input(\"Digite o segundo número: \"))\n",
    "num3 = float(input(\"Digite o terceiro número: \"))\n",
    "\n",
    "# Armazena os números em uma lista\n",
    "numeros = [num1, num2, num3]\n",
    "\n",
    "# Ordena a lista em ordem decrescente\n",
    "numeros.sort(reverse=True)\n",
    "\n",
    "# Exibe os números em ordem decrescente\n",
    "print(\"Os números em ordem decrescente são:\")\n",
    "for numero in numeros:\n",
    "    print(numero)"
   ]
  }
 ],
 "metadata": {
  "kernelspec": {
   "display_name": "Python 3",
   "language": "python",
   "name": "python3"
  },
  "language_info": {
   "codemirror_mode": {
    "name": "ipython",
    "version": 3
   },
   "file_extension": ".py",
   "mimetype": "text/x-python",
   "name": "python",
   "nbconvert_exporter": "python",
   "pygments_lexer": "ipython3",
   "version": "3.11.4"
  }
 },
 "nbformat": 4,
 "nbformat_minor": 2
}
