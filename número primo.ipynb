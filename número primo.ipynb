{
 "cells": [
  {
   "cell_type": "code",
   "execution_count": 1,
   "metadata": {},
   "outputs": [
    {
     "name": "stdout",
     "output_type": "stream",
     "text": [
      "O número 33 não é primo.\n"
     ]
    }
   ],
   "source": [
    "# Digite um número inteiro \n",
    "numero = int(input(\"Digite um número inteiro maior que 1: \"))\n",
    "\n",
    "# Verifica se o número é maior que 1\n",
    "if numero > 1:\n",
    "    # Verifica se o número é primo\n",
    "    eh_primo = True  # Diz que o número é primo\n",
    "    for i in range(2, numero):\n",
    "        if numero % i == 0:\n",
    "            eh_primo = False  # Se for divisível por algum número além de 1 e ele mesmo, não é primo\n",
    "            break\n",
    "    \n",
    "    # Exibe o resultado\n",
    "    if eh_primo:\n",
    "        print(f\"O número {numero} é primo.\")\n",
    "    else:\n",
    "        print(f\"O número {numero} não é primo.\")\n",
    "else:\n",
    "    print(\"Número inválido. Por favor, digite um número inteiro maior que 1.\")"
   ]
  }
 ],
 "metadata": {
  "kernelspec": {
   "display_name": "Python 3",
   "language": "python",
   "name": "python3"
  },
  "language_info": {
   "codemirror_mode": {
    "name": "ipython",
    "version": 3
   },
   "file_extension": ".py",
   "mimetype": "text/x-python",
   "name": "python",
   "nbconvert_exporter": "python",
   "pygments_lexer": "ipython3",
   "version": "3.11.4"
  }
 },
 "nbformat": 4,
 "nbformat_minor": 2
}
