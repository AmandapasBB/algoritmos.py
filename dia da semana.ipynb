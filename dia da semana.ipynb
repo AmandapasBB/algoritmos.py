{
 "cells": [
  {
   "cell_type": "code",
   "execution_count": 1,
   "metadata": {},
   "outputs": [
    {
     "name": "stdout",
     "output_type": "stream",
     "text": [
      "O dia correspondente da semana é: Quinta-feira\n"
     ]
    }
   ],
   "source": [
    "# Digite um número \n",
    "numero = int(input(\"Digite um número (1 a 7) correspondente ao dia da semana: \"))\n",
    "\n",
    "# Dias da semana\n",
    "dias_da_semana = {\n",
    "    1: \"Domingo\",\n",
    "    2: \"Segunda-feira\",\n",
    "    3: \"Terça-feira\",\n",
    "    4: \"Quarta-feira\",\n",
    "    5: \"Quinta-feira\",\n",
    "    6: \"Sexta-feira\",\n",
    "    7: \"Sábado\"\n",
    "}\n",
    "\n",
    "#Verificar o dia \n",
    "if numero in dias_da_semana:\n",
    "    print(f\"O dia correspondente da semana é: {dias_da_semana[numero]}\")\n",
    "else:\n",
    "    print(\"Valor inválido!\")"
   ]
  }
 ],
 "metadata": {
  "kernelspec": {
   "display_name": "Python 3",
   "language": "python",
   "name": "python3"
  },
  "language_info": {
   "codemirror_mode": {
    "name": "ipython",
    "version": 3
   },
   "file_extension": ".py",
   "mimetype": "text/x-python",
   "name": "python",
   "nbconvert_exporter": "python",
   "pygments_lexer": "ipython3",
   "version": "3.11.4"
  }
 },
 "nbformat": 4,
 "nbformat_minor": 2
}
