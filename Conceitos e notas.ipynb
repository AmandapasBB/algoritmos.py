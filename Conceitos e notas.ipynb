{
 "cells": [
  {
   "cell_type": "code",
   "execution_count": 1,
   "metadata": {},
   "outputs": [
    {
     "name": "stdout",
     "output_type": "stream",
     "text": [
      "Notas: 7.0, 4.0\n",
      "Média: 5.50\n",
      "Conceito: D\n",
      "Status: Reprovado\n"
     ]
    }
   ],
   "source": [
    "# Digite as duas notas\n",
    "nota1 = float(input(\"Digite a primeira nota: \"))\n",
    "nota2 = float(input(\"Digite a segunda nota: \"))\n",
    "\n",
    "# Calcula a média das notas\n",
    "media = (nota1 + nota2) / 2\n",
    "\n",
    "# Determina o conceito com base na média\n",
    "if 9.0 <= media <= 10.0:\n",
    "    conceito = 'A'\n",
    "elif 7.5 <= media < 9.0:\n",
    "    conceito = 'B'\n",
    "elif 6.0 <= media < 7.5:\n",
    "    conceito = 'C'\n",
    "elif 4.0 <= media < 6.0:\n",
    "    conceito = 'D'\n",
    "elif 0 <= media < 4.0:\n",
    "    conceito = 'E'\n",
    "else:\n",
    "    conceito = 'Inválido'\n",
    "\n",
    "# Determina se o aluno foi aprovado ou reprovado\n",
    "if conceito in ['A', 'B', 'C']:\n",
    "    status = \"Aprovado\"\n",
    "elif conceito in ['D', 'E']:\n",
    "    status = \"Reprovado\"\n",
    "else:\n",
    "    status = \"Erro no cálculo da média\"\n",
    "\n",
    "# Exibe as notas, a média, o conceito e a mensagem de aprovação/reprovação\n",
    "print(f\"Notas: {nota1}, {nota2}\")\n",
    "print(f\"Média: {media:.2f}\")\n",
    "print(f\"Conceito: {conceito}\")\n",
    "print(f\"Status: {status}\")"
   ]
  }
 ],
 "metadata": {
  "kernelspec": {
   "display_name": "Python 3",
   "language": "python",
   "name": "python3"
  },
  "language_info": {
   "codemirror_mode": {
    "name": "ipython",
    "version": 3
   },
   "file_extension": ".py",
   "mimetype": "text/x-python",
   "name": "python",
   "nbconvert_exporter": "python",
   "pygments_lexer": "ipython3",
   "version": "3.11.4"
  }
 },
 "nbformat": 4,
 "nbformat_minor": 2
}
