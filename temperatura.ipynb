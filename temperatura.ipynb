{
 "cells": [
  {
   "cell_type": "code",
   "execution_count": 1,
   "metadata": {},
   "outputs": [
    {
     "name": "stdout",
     "output_type": "stream",
     "text": [
      "\n",
      "Maior temperatura informada: 32.0°C\n",
      "Menor temperatura informada: 21.0°C\n",
      "Média das temperaturas: 25.60°C\n"
     ]
    }
   ],
   "source": [
    "# Lista para armazenar as temperaturas\n",
    "temperaturas = []\n",
    "\n",
    "# Lê as 5 temperaturas do usuário\n",
    "for i in range(5):\n",
    "    temperatura = float(input(f\"Digite a {i+1}ª temperatura: \"))\n",
    "    temperaturas.append(temperatura)\n",
    "\n",
    "# Calcula a maior e a menor temperatura\n",
    "maior_temperatura = max(temperaturas)\n",
    "menor_temperatura = min(temperaturas)\n",
    "\n",
    "# Calcula a média das temperaturas\n",
    "media_temperaturas = sum(temperaturas) / len(temperaturas)\n",
    "\n",
    "# Exibe os resultados\n",
    "print(f\"\\nMaior temperatura informada: {maior_temperatura}°C\")\n",
    "print(f\"Menor temperatura informada: {menor_temperatura}°C\")\n",
    "print(f\"Média das temperaturas: {media_temperaturas:.2f}°C\")"
   ]
  }
 ],
 "metadata": {
  "kernelspec": {
   "display_name": "Python 3",
   "language": "python",
   "name": "python3"
  },
  "language_info": {
   "codemirror_mode": {
    "name": "ipython",
    "version": 3
   },
   "file_extension": ".py",
   "mimetype": "text/x-python",
   "name": "python",
   "nbconvert_exporter": "python",
   "pygments_lexer": "ipython3",
   "version": "3.11.4"
  }
 },
 "nbformat": 4,
 "nbformat_minor": 2
}
