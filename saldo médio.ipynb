{
 "cells": [
  {
   "cell_type": "code",
   "execution_count": 1,
   "metadata": {},
   "outputs": [
    {
     "name": "stdout",
     "output_type": "stream",
     "text": [
      "\n",
      "Saldo médio do cliente: R$217.00\n",
      "Valor do crédito especial: R$43.40\n"
     ]
    }
   ],
   "source": [
    "# Digite o saldo médio dos clientes\n",
    "saldo_medio = float(input(\"Digite o saldo médio do cliente no último ano: \"))\n",
    "\n",
    "# Mostra o valor de saldo\n",
    "if saldo_medio >= 0 and saldo_medio <= 200:\n",
    "    percentual_credito = 0\n",
    "elif saldo_medio <= 400:\n",
    "    percentual_credito = 0.2\n",
    "elif saldo_medio <= 600:\n",
    "    percentual_credito = 0.3\n",
    "else:\n",
    "    percentual_credito = 0.4\n",
    "\n",
    "# Calcula o valor do crédito\n",
    "valor_credito = saldo_medio * percentual_credito\n",
    "\n",
    "# Exibe as informações\n",
    "print(f\"\\nSaldo médio do cliente: R${saldo_medio:.2f}\")\n",
    "print(f\"Valor do crédito especial: R${valor_credito:.2f}\")"
   ]
  }
 ],
 "metadata": {
  "kernelspec": {
   "display_name": "Python 3",
   "language": "python",
   "name": "python3"
  },
  "language_info": {
   "codemirror_mode": {
    "name": "ipython",
    "version": 3
   },
   "file_extension": ".py",
   "mimetype": "text/x-python",
   "name": "python",
   "nbconvert_exporter": "python",
   "pygments_lexer": "ipython3",
   "version": "3.11.4"
  }
 },
 "nbformat": 4,
 "nbformat_minor": 2
}
