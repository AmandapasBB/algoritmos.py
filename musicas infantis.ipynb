{
 "cells": [
  {
   "cell_type": "code",
   "execution_count": 1,
   "metadata": {},
   "outputs": [
    {
     "name": "stdout",
     "output_type": "stream",
     "text": [
      "5 patinhos foram passear\n",
      "Além das montanhas para brincar\n",
      "A mamãe gritou: Quá, quá, quá, quá\n",
      "Mas só voltaram 5 patinhos.\n",
      "\n",
      "4 patinhos foram passear\n",
      "Além das montanhas para brincar\n",
      "A mamãe gritou: Quá, quá, quá, quá\n",
      "Mas só voltaram 4 patinhos.\n",
      "\n",
      "3 patinhos foram passear\n",
      "Além das montanhas para brincar\n",
      "A mamãe gritou: Quá, quá, quá, quá\n",
      "Mas só voltaram 3 patinhos.\n",
      "\n",
      "2 patinhos foram passear\n",
      "Além das montanhas para brincar\n",
      "A mamãe gritou: Quá, quá, quá, quá\n",
      "Mas só voltaram 2 patinhos.\n",
      "\n",
      "1 patinhos foram passear\n",
      "Além das montanhas para brincar\n",
      "A mamãe gritou: Quá, quá, quá, quá\n",
      "Mas só voltou 1 patinho.\n",
      "\n"
     ]
    }
   ],
   "source": [
    "def cinco_patinhos():\n",
    "    patinhos = 5\n",
    "    \n",
    "    while patinhos > 0:\n",
    "        print(f\"{patinhos} patinhos foram passear\")\n",
    "        print(\"Além das montanhas para brincar\")\n",
    "        print(\"A mamãe gritou: Quá, quá, quá, quá\")\n",
    "        if patinhos == 1:\n",
    "            print(\"Mas só voltou \" + str(patinhos) + \" patinho.\")\n",
    "        else:\n",
    "            print(\"Mas só voltaram \" + str(patinhos) + \" patinhos.\")\n",
    "        \n",
    "        print()\n",
    "        patinhos -= 1\n",
    "\n",
    "cinco_patinhos()\n"
   ]
  },
  {
   "cell_type": "code",
   "execution_count": 5,
   "metadata": {},
   "outputs": [
    {
     "name": "stdout",
     "output_type": "stream",
     "text": [
      "Mariana conta 1, Mariana conta 1, é 1, é Ana, viva Mariana.\n",
      "Mariana conta 2, Mariana conta 2, é 2, é Ana, viva Mariana.\n",
      "Mariana conta 3, Mariana conta 3, é 3, é Ana, viva Mariana.\n"
     ]
    }
   ],
   "source": [
    "def viva_mariana():\n",
    "    mariana = 1\n",
    "    \n",
    "    while mariana <= 3:\n",
    "        print(f\"Mariana conta {mariana}, Mariana conta {mariana}, é {mariana}, é Ana, viva Mariana.\")\n",
    "        mariana += 1\n",
    "\n",
    "viva_mariana()\n"
   ]
  },
  {
   "cell_type": "code",
   "execution_count": 6,
   "metadata": {},
   "outputs": [
    {
     "name": "stdout",
     "output_type": "stream",
     "text": [
      "1 elefante incomoda muita gente\n",
      "2 elefantes incomodam muito mais\n",
      "3 elefantes incomodam muito mais\n",
      "4 elefantes incomodam muito mais\n",
      "5 elefantes incomodam muito mais\n",
      "6 elefantes incomodam muito mais\n",
      "7 elefantes incomodam muito mais\n"
     ]
    }
   ],
   "source": [
    "def um_elefante_incomoda():\n",
    "    elefantes = 1\n",
    "    \n",
    "    while elefantes <= 7:\n",
    "        if elefantes == 1:\n",
    "            print(f\"{elefantes} elefante incomoda muita gente\")\n",
    "        else:\n",
    "            print(f\"{elefantes} elefantes incomodam muito mais\")\n",
    "        \n",
    "        elefantes += 1\n",
    "\n",
    "um_elefante_incomoda()\n"
   ]
  }
 ],
 "metadata": {
  "kernelspec": {
   "display_name": "Python 3",
   "language": "python",
   "name": "python3"
  },
  "language_info": {
   "codemirror_mode": {
    "name": "ipython",
    "version": 3
   },
   "file_extension": ".py",
   "mimetype": "text/x-python",
   "name": "python",
   "nbconvert_exporter": "python",
   "pygments_lexer": "ipython3",
   "version": "3.11.4"
  }
 },
 "nbformat": 4,
 "nbformat_minor": 2
}
