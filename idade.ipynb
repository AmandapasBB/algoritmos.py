{
 "cells": [
  {
   "cell_type": "code",
   "execution_count": 1,
   "metadata": {},
   "outputs": [
    {
     "name": "stdout",
     "output_type": "stream",
     "text": [
      "Sua idade é: 52\n"
     ]
    }
   ],
   "source": [
    "# Digitar a idade\n",
    "idade = int(input(\"Digite sua idade (entre 0 e 99): \"))\n",
    "\n",
    "# Verifica se a idade está dentro do intervalo aceitável\n",
    "if 0 <= idade <= 99:\n",
    "    print(f\"Sua idade é: {idade}\")\n",
    "else:\n",
    "    print(\"Valor inválido! A idade deve estar entre 0 e 99.\")"
   ]
  }
 ],
 "metadata": {
  "kernelspec": {
   "display_name": "Python 3",
   "language": "python",
   "name": "python3"
  },
  "language_info": {
   "codemirror_mode": {
    "name": "ipython",
    "version": 3
   },
   "file_extension": ".py",
   "mimetype": "text/x-python",
   "name": "python",
   "nbconvert_exporter": "python",
   "pygments_lexer": "ipython3",
   "version": "3.11.4"
  }
 },
 "nbformat": 4,
 "nbformat_minor": 2
}
