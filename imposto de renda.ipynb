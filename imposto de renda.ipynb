{
 "cells": [
  {
   "cell_type": "code",
   "execution_count": 1,
   "metadata": {},
   "outputs": [
    {
     "name": "stdout",
     "output_type": "stream",
     "text": [
      "\n",
      "Folha de Pagamento:\n",
      "Salário Bruto: R$90000.00\n",
      "(-) IR: R$24750.00\n",
      "(-) Sindicato: R$2700.00\n",
      "FGTS: R$9900.00 (11%)\n",
      "Salário Líquido: R$62550.00\n"
     ]
    }
   ],
   "source": [
    "# Solicita ao usuário para digitar o valor da hora e a quantidade de horas trabalhadas\n",
    "valor_hora = float(input(\"Digite o valor da sua hora de trabalho: \"))\n",
    "horas_trabalhadas = float(input(\"Digite a quantidade de horas trabalhadas no mês: \"))\n",
    "\n",
    "# Calcula o salário bruto\n",
    "salario_bruto = valor_hora * horas_trabalhadas\n",
    "\n",
    "# Calcula o desconto do Imposto de Renda (IR)\n",
    "if salario_bruto <= 2112.00:\n",
    "    desconto_ir = 0\n",
    "elif salario_bruto <= 2826.65:\n",
    "    desconto_ir = salario_bruto * 0.075\n",
    "elif salario_bruto <= 3751.05:\n",
    "    desconto_ir = salario_bruto * 0.15\n",
    "elif salario_bruto <= 4664.68:\n",
    "    desconto_ir = salario_bruto * 0.225\n",
    "else:\n",
    "    desconto_ir = salario_bruto * 0.275\n",
    "\n",
    "# Calcula o desconto do Sindicato (3% do salário bruto)\n",
    "desconto_sindicato = salario_bruto * 0.03\n",
    "\n",
    "# Calcula o valor do FGTS (11% do salário bruto)\n",
    "fgts = salario_bruto * 0.11\n",
    "\n",
    "# Calcula o salário líquido (salário bruto menos os descontos)\n",
    "salario_liquido = salario_bruto - desconto_ir - desconto_sindicato\n",
    "\n",
    "# Exibe o resultado para o usuário\n",
    "print(\"\\nFolha de Pagamento:\")\n",
    "print(f\"Salário Bruto: R${salario_bruto:.2f}\")\n",
    "print(f\"(-) IR: R${desconto_ir:.2f}\")\n",
    "print(f\"(-) Sindicato: R${desconto_sindicato:.2f}\")\n",
    "print(f\"FGTS: R${fgts:.2f} (11%)\")\n",
    "print(f\"Salário Líquido: R${salario_liquido:.2f}\")"
   ]
  }
 ],
 "metadata": {
  "kernelspec": {
   "display_name": "Python 3",
   "language": "python",
   "name": "python3"
  },
  "language_info": {
   "codemirror_mode": {
    "name": "ipython",
    "version": 3
   },
   "file_extension": ".py",
   "mimetype": "text/x-python",
   "name": "python",
   "nbconvert_exporter": "python",
   "pygments_lexer": "ipython3",
   "version": "3.11.4"
  }
 },
 "nbformat": 4,
 "nbformat_minor": 2
}
